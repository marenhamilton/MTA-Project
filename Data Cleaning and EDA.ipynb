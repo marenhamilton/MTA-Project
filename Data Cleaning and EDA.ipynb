{
 "cells": [
  {
   "cell_type": "code",
   "execution_count": null,
   "metadata": {},
   "outputs": [],
   "source": [
    "#this file computes the number of people using the metro between timestamps"
   ]
  },
  {
   "cell_type": "code",
   "execution_count": 3,
   "metadata": {},
   "outputs": [],
   "source": [
    "import pandas as pd\n",
    "from datetime import datetime,timedelta\n",
    "mta_data = pd.read_pickle('mta_data.pickle')"
   ]
  },
  {
   "cell_type": "code",
   "execution_count": 31,
   "metadata": {},
   "outputs": [
    {
     "ename": "SyntaxError",
     "evalue": "invalid syntax (<ipython-input-31-f84717d6410b>, line 27)",
     "output_type": "error",
     "traceback": [
      "\u001b[0;36m  File \u001b[0;32m\"<ipython-input-31-f84717d6410b>\"\u001b[0;36m, line \u001b[0;32m27\u001b[0m\n\u001b[0;31m    ex='STATION',columns='weekday_tf')\u001b[0m\n\u001b[0m     ^\u001b[0m\n\u001b[0;31mSyntaxError\u001b[0m\u001b[0;31m:\u001b[0m invalid syntax\n"
     ]
    }
   ],
   "source": [
    "#reset index and drop old indices to remove duplicate indexes and fix cols\n",
    "mta_data = mta_data.reset_index().drop('index',axis=1)\n",
    "mta_data.columns = [col.strip() for col in mta_data.columns]\n",
    "\n",
    "\n",
    "# convert dates to datetime, create col; convert that to day of week, create col; convert that to weekday T/F, create col\n",
    "mta_data['weekday'] = pd.to_datetime(mta_data.DATE,format='%m/%d/%Y')\n",
    "mta_data['weekday_n'] = mta_data.weekday.dt.dayofweek\n",
    "mta_data['weekday_tf'] = mta_data.weekday_n<5\n",
    "\n",
    "#create columns for entries since last time\n",
    "mta_data['roll_ent'] = mta_data.groupby(['weekday'])['ENTRIES'].diff(periods = 1)\n",
    "mta_data['roll_ex'] = mta_data.groupby(['weekday'])['EXITS'].diff(periods = 1)\n",
    "mta_data.fillna(0,inplace=True)\n",
    "mta_data.roll_ent[mta_data.roll_ent<0]=0\n",
    "mta_data.roll_ex[mta_data.roll_ex<0]=0\n",
    "\n",
    "#find mean of data by station and whether weekday or not\n",
    "mean_entry = mta_data.groupby(['STATION','weekday_tf']).mean()\n",
    "#mean total traffic, then only that\n",
    "mean_entry['through'] = mean_entry.ENTRIES + mean_entry.EXITS\n",
    "mean_entry.drop(labels = ['ENTRIES','EXITS','weekday_n'],axis=1,inplace=True)\n",
    "\n",
    "#shift table so that each station's through is in cols T and F, then subtract\n",
    "mean_entry.reset_index()\n",
    "piv_me=mean_entry.pivot_table(ind\n",
    "                              ex='STATION',columns='weekday_tf')\n",
    "weekdaymean = piv_me['through']['weekday_tf'==False]\n",
    "weekendmean = piv_me['through']['weekday_tf'==True]\n",
    "touristdiff = weekdaymean-weekendmean"
   ]
  },
  {
   "cell_type": "code",
   "execution_count": 30,
   "metadata": {},
   "outputs": [
    {
     "ename": "NameError",
     "evalue": "name 'touristdiffs' is not defined",
     "output_type": "error",
     "traceback": [
      "\u001b[0;31m---------------------------------------------------------------------------\u001b[0m",
      "\u001b[0;31mNameError\u001b[0m                                 Traceback (most recent call last)",
      "\u001b[0;32m<ipython-input-30-cff0d83237c3>\u001b[0m in \u001b[0;36m<module>\u001b[0;34m\u001b[0m\n\u001b[0;32m----> 1\u001b[0;31m \u001b[0mtouristdiffs\u001b[0m\u001b[0;34m[\u001b[0m\u001b[0mtouristdiffs\u001b[0m\u001b[0;34m>\u001b[0m\u001b[0;36m0\u001b[0m\u001b[0;34m]\u001b[0m\u001b[0;34m\u001b[0m\u001b[0;34m\u001b[0m\u001b[0m\n\u001b[0m",
      "\u001b[0;31mNameError\u001b[0m: name 'touristdiffs' is not defined"
     ]
    }
   ],
   "source": [
    "touristdiffs[touristdiffs>0]"
   ]
  },
  {
   "cell_type": "code",
   "execution_count": null,
   "metadata": {},
   "outputs": [],
   "source": []
  }
 ],
 "metadata": {
  "kernelspec": {
   "display_name": "Python 3",
   "language": "python",
   "name": "python3"
  },
  "language_info": {
   "codemirror_mode": {
    "name": "ipython",
    "version": 3
   },
   "file_extension": ".py",
   "mimetype": "text/x-python",
   "name": "python",
   "nbconvert_exporter": "python",
   "pygments_lexer": "ipython3",
   "version": "3.7.1"
  }
 },
 "nbformat": 4,
 "nbformat_minor": 2
}
