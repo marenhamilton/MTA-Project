{
 "cells": [
  {
   "cell_type": "code",
   "execution_count": null,
   "metadata": {},
   "outputs": [],
   "source": [
    "#this file computes the number of people using the metro between timestamps\n",
    "#this file comutes the total number of people using the metro per station per day\n",
    "#this file computes the stations with the biggest difference in mean passengers on weekdays and weekends!"
   ]
  },
  {
   "cell_type": "code",
   "execution_count": null,
   "metadata": {},
   "outputs": [],
   "source": [
    "import matplotlib.pyplot as plt\n",
    "import pandas as pd\n",
    "from datetime import datetime,timedelta\n",
    "mta_data = pd.read_pickle('mta_data.pickle')\n",
    "\n",
    "#reset index and drop old indices to remove duplicate indexes and fix cols; remove duplicates\n",
    "mta_data = mta_data.reset_index().drop('index',axis=1)\n",
    "mta_data.columns = [col.strip() for col in mta_data.columns]\n",
    "mta_data.drop_duplicates()\n",
    "\n",
    "# convert dates to datetime, create col; convert that to day of week, create col; convert that to weekday T/F, create col\n",
    "mta_data['weekday'] = pd.to_datetime(mta_data.DATE,format='%m/%d/%Y')\n",
    "mta_data['weekday_n'] = mta_data.weekday.dt.dayofweek\n",
    "mta_data['weekday_tf'] = mta_data.weekday_n<5\n",
    "\n",
    "#create columns for entries since last time\n",
    "mta_data['peop_in'] = mta_data.groupby(['weekday','SCP'])['ENTRIES'].diff(periods = 1)\n",
    "mta_data['peop_out'] = mta_data.groupby(['weekday','SCP'])['EXITS'].diff(periods = 1)\n",
    "mta_data.fillna(0,inplace=True)\n",
    "\n",
    "#filter the weird values and fill nan\n",
    "mta_data.peop_out[mta_data['peop_out']<0] = 0\n",
    "mta_data.peop_in[mta_data['peop_in']<0] = 0\n",
    "mta_data.peop_out[mta_data['peop_out']>4000] = 0\n",
    "mta_data.peop_in[mta_data['peop_in']>4000] = 0\n",
    "mta_data.fillna(0)\n",
    "\n",
    "#drop values where there is nobody in/out that we have fewer rows\n",
    "mta_data.drop(mta_data[mta_data['peop_in']==0].index,inplace=True)\n",
    "mta_data.drop(mta_data[mta_data['peop_out']==0].index,inplace=True)\n",
    "\n",
    "#find sum of data and the total number of people through by day\n",
    "sum_d = mta_data.groupby(['STATION','weekday']).sum()\n",
    "sum_d['through']=sum_d.peop_in+sum_d.peop_out\n",
    "sum_d.reset_index(inplace=True)\n",
    "\n",
    "#Create new row in order to fix issue with adding t/f values and calculate dif in mean on weekday v weekend\n",
    "sum_d['weekend_tf'] = sum_d.weekday_tf == 0\n",
    "sum_d_m = sum_d.groupby(['STATION','weekend_tf']).mean()\n",
    "sum_d_m.reset_index(inplace=True)\n",
    "sum_d_m['mean_dif']=sum_d_m.groupby(\"STATION\").diff(periods=1).through\n",
    "\n",
    "#remove NA and find 10 worst stations (more traffic on weekend=touristy)\n",
    "top10b = sum_d_m.dropna().sort_values(by='mean_dif').head(10)\n",
    "\n",
    "#plot those 10\n",
    "plt.figure(figsize=(10,10))\n",
    "plt.bar(x=top10b.STATION,height=top10b.mean_dif)\n",
    "plt.xticks(rotation=90)\n",
    "plt.title('Most Touristy Stations')\n",
    "plt.xlabel('Station Name')\n",
    "plt.ylabel('Difference in People on Weekends/Weekdays')\n",
    "plt.show()\n",
    "\n",
    "#remove NA and find 10 best stations (more traddic on weekdays = commuter)\n",
    "top10g = sum_d_m.dropna().sort_values(by='mean_dif',ascending=False).head(10)\n",
    "\n",
    "#plot those 10\n",
    "plt.figure(figsize=(10,10))\n",
    "plt.bar(x=top10g.STATION,height=top10g.mean_dif)\n",
    "plt.xticks(rotation=90)\n",
    "plt.title('Least Touristy Stations')\n",
    "plt.xlabel('Station Name')\n",
    "plt.ylabel('Difference in People on Weekends/Weekdays');"
   ]
  }
 ],
 "metadata": {
  "kernelspec": {
   "display_name": "Python 3",
   "language": "python",
   "name": "python3"
  },
  "language_info": {
   "codemirror_mode": {
    "name": "ipython",
    "version": 3
   },
   "file_extension": ".py",
   "mimetype": "text/x-python",
   "name": "python",
   "nbconvert_exporter": "python",
   "pygments_lexer": "ipython3",
   "version": "3.7.1"
  }
 },
 "nbformat": 4,
 "nbformat_minor": 2
}
