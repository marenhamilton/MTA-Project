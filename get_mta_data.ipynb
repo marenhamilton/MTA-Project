{
 "cells": [
  {
   "cell_type": "code",
   "execution_count": 1,
   "metadata": {},
   "outputs": [],
   "source": [
    "from datetime import datetime, timedelta\n",
    "import pandas as pd\n",
    "import pickle"
   ]
  },
  {
   "cell_type": "code",
   "execution_count": 2,
   "metadata": {},
   "outputs": [],
   "source": [
    "#code to get single week of data from url and import to pandas\n",
    "def get_data_from_mta(file_url):\n",
    "    '''\n",
    "    reads a url that points to mta turnstile data in csv format and returns as a pandas dataframe\n",
    "    '''\n",
    "    data = pd.read_csv(file_url)\n",
    "    return data"
   ]
  },
  {
   "cell_type": "code",
   "execution_count": 3,
   "metadata": {},
   "outputs": [],
   "source": [
    "def get_data_from_date_list(dates):\n",
    "    '''\n",
    "    Reads a list of dates (must be saturdays) and returns pandas dataframe with MTA turnstile data of all those weeks\n",
    "    '''\n",
    "    df_list = []\n",
    "    for x in dates:\n",
    "        string = ('http://web.mta.info/developers/data/nyct/turnstile/turnstile_' + x + '.txt') # current url of MTA turnstile data\n",
    "        holder_df = get_data_from_mta(string)\n",
    "        df_list.append(holder_df) # puts each data frame into a list to be concatanated\n",
    "    return pd.concat(df_list)"
   ]
  },
  {
   "cell_type": "code",
   "execution_count": 4,
   "metadata": {},
   "outputs": [],
   "source": [
    "def next_sat(startdate,enddate) :\n",
    "   \"\"\"\n",
    "   startdate/enddate : 'MM-DD-YYYY'\n",
    "   returns list of dates as YYMMDD strings between the dates, not including the enddate\n",
    "   the start-date must be a saturday to be compatible with functions to pull mta data\n",
    "   \"\"\"\n",
    "    dates = []\n",
    "    begin = datetime.strptime(startdate,'%m-%d-%Y')\n",
    "    end = datetime.strptime(enddate,'%m-%d-%Y')\n",
    "    current = begin\n",
    "    while current < end :\n",
    "        dates.append(current.strftime('%y%m%d'))\n",
    "        current += timedelta(days=7)\n",
    "    return dates\n",
    "\n",
    "def march_thru_jun(dates) :\n",
    "    return [date for date in dates if int(date[3]) in range(3,7)]"
   ]
  },
  {
   "cell_type": "code",
   "execution_count": 5,
   "metadata": {},
   "outputs": [],
   "source": [
    "dates = march_thru_jun(next_sat('01-06-2018', '01-01-2019'))\n",
    "mta_turnstile_data = get_data_frome_date_list(dates)"
   ]
  },
  {
   "cell_type": "code",
   "execution_count": 6,
   "metadata": {},
   "outputs": [],
   "source": [
    "with open('mta_data.pickle', 'wb') as to_write:\n",
    "    pickle.dump(mta_turnstile_data, to_write)"
   ]
  },
  {
   "cell_type": "code",
   "execution_count": 35,
   "metadata": {},
   "outputs": [],
   "source": [
    "import pickle"
   ]
  },
  {
   "cell_type": "code",
   "execution_count": 37,
   "metadata": {},
   "outputs": [],
   "source": [
    "with open ('tech_station.pickle', 'wb') as write_file:\n",
    "    pickle.dump(df_tech_stations, write_file)"
   ]
  },
  {
   "cell_type": "code",
   "execution_count": null,
   "metadata": {},
   "outputs": [],
   "source": []
  }
 ],
 "metadata": {
  "kernelspec": {
   "display_name": "metis",
   "language": "python",
   "name": "metis"
  },
  "language_info": {
   "codemirror_mode": {
    "name": "ipython",
    "version": 3
   },
   "file_extension": ".py",
   "mimetype": "text/x-python",
   "name": "python",
   "nbconvert_exporter": "python",
   "pygments_lexer": "ipython3",
   "version": "3.7.2"
  }
 },
 "nbformat": 4,
 "nbformat_minor": 2
}
