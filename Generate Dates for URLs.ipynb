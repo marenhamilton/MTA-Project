{
 "cells": [
  {
   "cell_type": "code",
   "execution_count": 2,
   "metadata": {},
   "outputs": [],
   "source": [
    "# start of march until mid-june data\n",
    "# 3-5 years of data"
   ]
  },
  {
   "cell_type": "code",
   "execution_count": 58,
   "metadata": {},
   "outputs": [],
   "source": [
    "import pandas as pd\n",
    "import numpy as np\n",
    "from datetime import datetime,timedelta\n",
    "\n",
    "def next_sat(startdate,enddate) :\n",
    "    \"\"\"\n",
    "    startdate/enddate : 'MM-DD-YYYY'\n",
    "    returns list of dates as YYMMDD strings between the dates, not including the enddate\n",
    "    \"\"\"\n",
    "    dates = []\n",
    "    begin = datetime.strptime(startdate,'%m-%d-%Y')\n",
    "    end = datetime.strptime(enddate,'%m-%d-%Y')\n",
    "    current = begin\n",
    "    while current < end :\n",
    "        dates.append(current.strftime('%y%m%d'))\n",
    "        current += timedelta(days=7)\n",
    "    return dates\n",
    "\n",
    "def march_thru_jun(dates) :\n",
    "    return [date for date in dates if int(date[3]) in range(3,7)]"
   ]
  }
 ],
 "metadata": {
  "kernelspec": {
   "display_name": "metis",
   "language": "python",
   "name": "metis"
  },
  "language_info": {
   "codemirror_mode": {
    "name": "ipython",
    "version": 3
   },
   "file_extension": ".py",
   "mimetype": "text/x-python",
   "name": "python",
   "nbconvert_exporter": "python",
   "pygments_lexer": "ipython3",
   "version": "3.7.1"
  }
 },
 "nbformat": 4,
 "nbformat_minor": 2
}
